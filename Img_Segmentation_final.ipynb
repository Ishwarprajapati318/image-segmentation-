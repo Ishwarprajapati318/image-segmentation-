{
  "nbformat": 4,
  "nbformat_minor": 0,
  "metadata": {
    "colab": {
      "name": "Img_Segmentation_final.ipynb",
      "provenance": [],
      "collapsed_sections": [],
      "authorship_tag": "ABX9TyOaRAQ5r2dzgGk8bHVrxF1K",
      "include_colab_link": true
    },
    "kernelspec": {
      "name": "python3",
      "display_name": "Python 3"
    },
    "language_info": {
      "name": "python"
    }
  },
  "cells": [
    {
      "cell_type": "markdown",
      "metadata": {
        "id": "view-in-github",
        "colab_type": "text"
      },
      "source": [
        "<a href=\"https://colab.research.google.com/github/Ishwarprajapati318/image-segmentation-/blob/main/Img_Segmentation_final.ipynb\" target=\"_parent\"><img src=\"https://colab.research.google.com/assets/colab-badge.svg\" alt=\"Open In Colab\"/></a>"
      ]
    },
    {
      "cell_type": "code",
      "metadata": {
        "id": "so3XLL_XUgb6"
      },
      "source": [
        "#!/usr/bin/env python3\n",
        "# -*- coding: utf-8 -*-\n",
        "\"\"\"\n",
        "Created on Mon Nov 22 23:35:44 2021\n",
        "\n",
        "@author: deltaplus\n",
        "\"\"\"\n",
        "import numpy as np\n",
        "import cv2\n",
        "from google.colab.patches import cv2_imshow\n",
        "import matplotlib.pyplot as plt\n",
        "from sklearn.mixture import GaussianMixture as GMM\n",
        "\n",
        "\n",
        "def resize_img(img,Scale):\n",
        "    \"\"\"Reshape the image to the scale of the image\"\"\"\n",
        "    #new width of blood cell image\n",
        "    new_width = int(data_img.shape[1] * Scale/ 100)\n",
        "    \n",
        "    #new height of blood cell image\n",
        "    new_height = int(data_img.shape[0] * Scale/ 100)\n",
        "    \n",
        "    #new dimension for blood cell image\n",
        "    new_dimension = (new_width, new_height)   \n",
        "    \n",
        "    # return resized new image\n",
        "    return cv2.resize(img, new_dimension, interpolation = cv2.INTER_AREA)\n",
        "\n",
        "#variables name for image result\n",
        "Img_Name = \"frds\"\n",
        "Result_Img_Name = Img_Name+\"-Segmented.jpg\"\n",
        "\n",
        "\n",
        "#image import from colab files\n",
        "new_data_img = cv2.imread(\"IMG_2976.JPG\",cv2.IMREAD_COLOR)\n",
        "\n",
        "print(new_data_img)\n",
        "#resized new_data_img\n",
        "new_image = resize_img(new_data_img, 60)\n",
        "assert not isinstance(new_image,type(None)), 'new_image not found'\n",
        "print(new_image)\n",
        "\n",
        "\n",
        "#new_image is resize to lower dimension segentation purpose\n",
        "res_new_image = new_image.reshape((-1,3))\n",
        "\n",
        "\n",
        "#implement GMM model\n",
        "#coavriance_type can be used a.tied, b.full, c.diag, d. spherical\n",
        "alpha = 5\n",
        "segmentation_model = GMM(n_components=alpha,covariance_type=\"full\")\n",
        "\n",
        "#fit the  resahped image to segmentation model\n",
        "segmentation_model.fit(res_new_image)\n",
        "\n",
        "#prdicted labels of gmm on img\n",
        "segmentation_labels = segmentation_model.predict(res_new_image)\n",
        "print(segmentation_labels.shape)\n",
        "\n",
        "segmentation_beta = segmentation_labels\n",
        "\n",
        "#size of the imge\n",
        "New_Shape = new_image.shape\n",
        "print(\"Shape of the resized image : \",New_Shape)\n",
        "\n",
        "img_segmented = segmentation_labels.reshape(New_Shape[0],New_Shape[1])\n",
        "\n",
        "\n",
        "#copy resized imge \n",
        "for i in range(alpha):\n",
        "    beta = res_new_image.copy()\n",
        "    for j in range(len(segmentation_beta)):\n",
        "        \n",
        "        if(segmentation_beta[j]==i):\n",
        "            beta[j] = np.array([255,255,255]) \n",
        "    beta = np.reshape(beta,(New_Shape[0],New_Shape[1],3))\n",
        "    img=cv2_imshow(beta)\n",
        "    # cv2_imshow(img)\n",
        "    cv2.imwrite(Img_Name+str(i)+\".jpg\",beta)\n",
        "\n",
        "#plot segmented image\n",
        "plt.imshow(img_segmented)\n",
        "\n",
        "\n",
        "\n",
        "#save segmented images to colab file\n",
        "plt.tight_layout()\n",
        "plt.savefig(Result_Img_Name,dpi = 500, bbox_inches = 'tight')\n",
        "plt.show()\n",
        "\n",
        "\n",
        "#read stored images to colab file\n",
        "Data = cv2.imread(Result_Img_Name,0)\n",
        "Data = resize_image(Data,60)\n",
        "\n",
        "# show images\n",
        "cv2_imshow(new_image)\n",
        "cv2_imshow(Data)\n",
        "cv2.waitKey(0)\n",
        "cv2.destroyAllWindows()\n",
        "\n",
        "\n",
        "\n",
        "\n"
      ],
      "execution_count": null,
      "outputs": []
    },
    {
      "cell_type": "code",
      "metadata": {
        "id": "nRwwnrRBVHPW"
      },
      "source": [
        ""
      ],
      "execution_count": null,
      "outputs": []
    }
  ]
}